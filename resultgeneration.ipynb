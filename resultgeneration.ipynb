{
 "cells": [
  {
   "cell_type": "code",
   "execution_count": 1,
   "id": "64021853",
   "metadata": {},
   "outputs": [],
   "source": [
    "from vse import *"
   ]
  },
  {
   "cell_type": "code",
   "execution_count": 2,
   "id": "57c4148f",
   "metadata": {},
   "outputs": [
    {
     "name": "stdout",
     "output_type": "stream",
     "text": [
      "Iteration: 20\n",
      "Iteration: 80\n",
      "Iteration: 10\n",
      "Iteration: 50\n",
      "Iteration: 30\n",
      "Iteration: 40\n",
      "Iteration: 60\n",
      "Iteration: 90\n",
      "Iteration: 70\n"
     ]
    }
   ],
   "source": [
    "basic = CsvBatch(KSModel(),\n",
    "                 [STAR, Plurality, PluralityTop2,\n",
    "                  Approval, ApprovalTop2, Irv, Minimax],\n",
    "                 nvot=101, ncand=6, niter=100,\n",
    "                 pickiness = 0.7, pollingError = 0.4)\n",
    "basic.saveFile(\"bullets\")"
   ]
  },
  {
   "cell_type": "code",
   "execution_count": null,
   "id": "4956ed04",
   "metadata": {},
   "outputs": [],
   "source": [
    "basic = CsvBatch(RandomModel(),\n",
    "                 [STAR, Plurality, PluralityTop2,\n",
    "                  Approval, ApprovalTop2, Irv, Minimax],\n",
    "                 nvot=51, ncand=6, niter=1000,\n",
    "                 pickiness = 0.7, pollingError = 0.4)\n",
    "basic.saveFile(\"9random\")"
   ]
  },
  {
   "cell_type": "code",
   "execution_count": null,
   "id": "cea6e582",
   "metadata": {},
   "outputs": [],
   "source": [
    "\n",
    "basic = CsvBatch(DimModel(2),\n",
    "                 [STAR, Plurality, PluralityTop2,\n",
    "                  Approval, ApprovalTop2, Irv, Minimax],\n",
    "                 nvot=51, ncand=6, niter=1000,\n",
    "                 pickiness = 0.7, pollingError = 0.4)\n",
    "basic.saveFile(\"2d\")\n",
    "basic = CsvBatch(DimModel(3),\n",
    "                 [STAR, Plurality, PluralityTop2,\n",
    "                  Approval, ApprovalTop2, Irv, Minimax],\n",
    "                 nvot=51, ncand=6, niter=1000,\n",
    "                 pickiness = 0.7, pollingError = 0.4)\n",
    "basic.saveFile(\"3d\")"
   ]
  },
  {
   "cell_type": "code",
   "execution_count": null,
   "id": "a42fbe2d",
   "metadata": {},
   "outputs": [],
   "source": [
    "\n",
    "basic = CsvBatch(KSModel(),\n",
    "                 [STAR, Plurality, PluralityTop2,\n",
    "                  Approval, ApprovalTop2, Irv, Minimax],\n",
    "                 nvot=51, ncand=3, niter=1000,\n",
    "                 pickiness = 0.7, pollingError = 0.4)\n",
    "basic.saveFile(\"3cand\")\n",
    "basic = CsvBatch(KSModel(),\n",
    "                 [STAR, Plurality, PluralityTop2,\n",
    "                  Approval, ApprovalTop2, Irv, Minimax],\n",
    "                 nvot=51, ncand=8, niter=1000,\n",
    "                 pickiness = 0.7, pollingError = 0.4)\n",
    "basic.saveFile(\"8cand\")\n",
    "basic = CsvBatch(KSModel(),\n",
    "                 [STAR, Plurality, PluralityTop2,\n",
    "                  Approval, ApprovalTop2, Irv, Minimax],\n",
    "                 nvot=51, ncand=6, niter=1000,\n",
    "                 pickiness = 0.0, pollingError = 0.4)\n",
    "basic.saveFile(\"0picky\")\n",
    "basic = CsvBatch(KSModel(),\n",
    "                 [STAR, Plurality, PluralityTop2,\n",
    "                  Approval, ApprovalTop2, Irv, Minimax],\n",
    "                 nvot=51, ncand=3, niter=1000,\n",
    "                 pickiness = 0.7, pollingError = 0.1)\n",
    "basic.saveFile(\"01MOE\")"
   ]
  },
  {
   "cell_type": "code",
   "execution_count": null,
   "id": "90cc36d9",
   "metadata": {},
   "outputs": [],
   "source": [
    "manyMethods = CsvBatch(KSModel(),\n",
    "             [Plurality, STAR, Score, Borda, PluralityTop2,\n",
    "              Approval, ApprovalTop2, Irv, Minimax, Rp, Schulze],\n",
    "             nvot=21, ncand=6, niter=500, pickiness = 0.7, pollingError = 0.4)"
   ]
  },
  {
   "cell_type": "code",
   "execution_count": null,
   "id": "ef0bee3f",
   "metadata": {},
   "outputs": [],
   "source": [
    "STARinputs = []\n",
    "STARfgs = []\n",
    "for targetFunc in [select21, select31, selectRand, select012]:\n",
    "    STARfgs.extend([(STAR.diehardBallot, targetFunc, {'intensity':i}) for i in STAR.diehardLevels]\n",
    "               + [(STAR.compBallot, targetFunc, {'intensity':i}) for i in STAR.compLevels])\n",
    "    STARfgs.append((STAR.lowInfoBallot, targetFunc, {'info':'e'}))\n",
    "    STARfgs.append((STAR.lowInfoBallot, targetFunc, {'info':'p'}))\n",
    "    STARfgs.append((STAR.bulletBallot, targetFunc))\n",
    "for bg in [STAR.honBallot, STAR.lowInfoBallot, STAR.bulletBallot]:\n",
    "    STARinputs.append((STAR, bg, STARfgs, {'pollingUncertainty':0.4}))\n",
    "    \n"
   ]
  },
  {
   "cell_type": "code",
   "execution_count": null,
   "id": "5b60bc4f",
   "metadata": {},
   "outputs": [],
   "source": [
    "bulletSTAR = CsvBatch(KSModel(),\n",
    "                 STARinputs,\n",
    "                 nvot=21, ncand=6, niter=500,\n",
    "                 pickiness = 0.7, pollingError = 0.4)"
   ]
  },
  {
   "cell_type": "code",
   "execution_count": null,
   "id": "8553576e",
   "metadata": {},
   "outputs": [],
   "source": [
    "STARinputs2 = []\n",
    "STARfgs2 = []\n",
    "for scoreWeight in [0.01 + 0.02*N for N in range(20)]:\n",
    "    STARfgs2.append((STAR.lowInfoBallot, selectRand, {'info':'e', 'scoreImportance': scoreWeight}))\n",
    "for bg in [STAR.honBallot, STAR.lowInfoBallot]:\n",
    "    STARinputs2.append((STAR, bg, STARfgs2, {'pollingUncertainty':0.4}))"
   ]
  },
  {
   "cell_type": "code",
   "execution_count": null,
   "id": "0f0219dd",
   "metadata": {},
   "outputs": [],
   "source": [
    "starCalib = CsvBatch(KSModel(),\n",
    "                 STARinputs2,\n",
    "                 nvot=21, ncand=6, niter=50,\n",
    "                 pickiness = 0.7, pollingError = 0.4)"
   ]
  },
  {
   "cell_type": "code",
   "execution_count": null,
   "id": "a31bd2a8",
   "metadata": {},
   "outputs": [],
   "source": [
    "starCalib.rows[5]"
   ]
  },
  {
   "cell_type": "code",
   "execution_count": null,
   "id": "8cb59dda",
   "metadata": {},
   "outputs": [],
   "source": []
  }
 ],
 "metadata": {
  "kernelspec": {
   "display_name": "Python 3 (ipykernel)",
   "language": "python",
   "name": "python3"
  },
  "language_info": {
   "codemirror_mode": {
    "name": "ipython",
    "version": 3
   },
   "file_extension": ".py",
   "mimetype": "text/x-python",
   "name": "python",
   "nbconvert_exporter": "python",
   "pygments_lexer": "ipython3",
   "version": "3.9.7"
  }
 },
 "nbformat": 4,
 "nbformat_minor": 5
}
